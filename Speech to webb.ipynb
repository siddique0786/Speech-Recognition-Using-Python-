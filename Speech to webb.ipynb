{
 "cells": [
  {
   "cell_type": "code",
   "execution_count": 1,
   "id": "144ac2ae",
   "metadata": {},
   "outputs": [],
   "source": [
    "import speech_recognition\n",
    "import pyttsx3\n",
    "import webbrowser"
   ]
  },
  {
   "cell_type": "code",
   "execution_count": 8,
   "id": "9595bfac",
   "metadata": {},
   "outputs": [
    {
     "name": "stdout",
     "output_type": "stream",
     "text": [
      "Please say something to open...\n",
      "Hearing.....\n",
      "you asked to open :google.com\n"
     ]
    }
   ],
   "source": [
    "if __name__==\"__main__\":\n",
    "    path=\"C:/Program Files (x86)/Microsoft/Edge/Application/msedge.exe %s\"\n",
    "    \n",
    "    sr = speech_recognition.Recognizer()\n",
    "    \n",
    "    with speech_recognition.Microphone() as source:\n",
    "        \n",
    "        sr.adjust_for_ambient_noise(source)\n",
    "        \n",
    "        print(\"Please say something to open...\")\n",
    "        \n",
    "        audio = sr.listen(source)\n",
    "        \n",
    "        print(\"Hearing.....\")\n",
    "        \n",
    "        try:\n",
    "            destination = sr.recognize_google(audio)\n",
    "            \n",
    "            print(\"you asked to open :\" + destination)\n",
    "            \n",
    "            webbrowser.get(path).open(destination)\n",
    "            \n",
    "        except Exception as e:\n",
    "            \n",
    "            print(\"error :\" +str(e))\n",
    "        "
   ]
  },
  {
   "cell_type": "code",
   "execution_count": null,
   "id": "556226b4",
   "metadata": {},
   "outputs": [],
   "source": []
  }
 ],
 "metadata": {
  "kernelspec": {
   "display_name": "Python 3 (ipykernel)",
   "language": "python",
   "name": "python3"
  },
  "language_info": {
   "codemirror_mode": {
    "name": "ipython",
    "version": 3
   },
   "file_extension": ".py",
   "mimetype": "text/x-python",
   "name": "python",
   "nbconvert_exporter": "python",
   "pygments_lexer": "ipython3",
   "version": "3.9.16"
  }
 },
 "nbformat": 4,
 "nbformat_minor": 5
}
