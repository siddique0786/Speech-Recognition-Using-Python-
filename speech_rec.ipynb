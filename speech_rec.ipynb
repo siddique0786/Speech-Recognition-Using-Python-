{
 "cells": [
  {
   "cell_type": "code",
   "execution_count": 5,
   "id": "ec8e9fe0",
   "metadata": {},
   "outputs": [],
   "source": [
    "import speech_recognition\n",
    "import pyttsx3"
   ]
  },
  {
   "cell_type": "code",
   "execution_count": 23,
   "id": "19ec9620",
   "metadata": {},
   "outputs": [],
   "source": [
    "def SpeakNow(command):\n",
    "    voice=pyttsx3.init()\n",
    "    voice.say(command)\n",
    "    voice.runAndWait()"
   ]
  },
  {
   "cell_type": "code",
   "execution_count": 7,
   "id": "8e7a2c85",
   "metadata": {},
   "outputs": [],
   "source": [
    "#!pip install SpeechRecognition\n",
    "#!pip install pyttsx3"
   ]
  },
  {
   "cell_type": "code",
   "execution_count": 27,
   "id": "5142ec41",
   "metadata": {},
   "outputs": [
    {
     "name": "stdout",
     "output_type": "stream",
     "text": [
      "Slient Please\n",
      "Speak now Please.....\n",
      "\n",
      "Did you say :- bahu ayukt\n"
     ]
    }
   ],
   "source": [
    "sr = speech_recognition.Recognizer()\n",
    "\n",
    "with speech_recognition.Microphone() as source2:\n",
    "    \n",
    "    print(\"Slient Please\")\n",
    "    \n",
    "    sr.adjust_for_ambient_noise(source2, duration=2)\n",
    "    \n",
    "    print(\"Speak now Please.....\")\n",
    "    \n",
    "    audio2 = sr.listen(source2)\n",
    "    \n",
    "    textt = sr.recognize_google(audio2)\n",
    "    textt = textt.lower()\n",
    "    print()\n",
    "    \n",
    "    print(\"Did you say :- \"+textt)\n",
    "    \n",
    "    SpeakNow(textt)\n",
    "    \n",
    "# try:\n",
    "    \n",
    "#     print(textt)\n",
    "# except sr.UnknownValueError:\n",
    "#     print(\"the goole can not under stand the audio\")\n",
    "    \n",
    "# except sr.RequestError as e:\n",
    "#      print(f\"Could not request results from Google Web Speech API; {e}\")\n",
    "    \n",
    "    \n",
    "     "
   ]
  },
  {
   "cell_type": "code",
   "execution_count": 14,
   "id": "925736f1",
   "metadata": {},
   "outputs": [],
   "source": [
    "#!pip install pipwin\n",
    "#!pipwin install pyaudio"
   ]
  },
  {
   "cell_type": "code",
   "execution_count": null,
   "id": "69461f8b",
   "metadata": {},
   "outputs": [],
   "source": []
  }
 ],
 "metadata": {
  "kernelspec": {
   "display_name": "Python 3 (ipykernel)",
   "language": "python",
   "name": "python3"
  },
  "language_info": {
   "codemirror_mode": {
    "name": "ipython",
    "version": 3
   },
   "file_extension": ".py",
   "mimetype": "text/x-python",
   "name": "python",
   "nbconvert_exporter": "python",
   "pygments_lexer": "ipython3",
   "version": "3.9.16"
  }
 },
 "nbformat": 4,
 "nbformat_minor": 5
}
